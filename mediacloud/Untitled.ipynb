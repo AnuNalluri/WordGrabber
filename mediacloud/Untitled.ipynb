{
 "cells": [
  {
   "cell_type": "code",
   "execution_count": 9,
   "metadata": {},
   "outputs": [],
   "source": [
    "a =[\"americannewsx\", \"21stcenturywire\", \"70news\", \"abcnews.com.co\", \"activistpost\", \"addictinginfo\", \"amplifyingglass\", \"anonews\", \"beforeitsnews\", \"bigamericannews\",  \"bipartisanreport\", \"bluenationreview\", \"breitbart\", \"burrardstreetjournal\", \"callthecops\", \"christiantimes\", \"christwire\", \"chronicle\", \"civictribune\", \"clickhole\", \"coasttocoastam\", \"collective-evolution\", \"consciouslifenews\", \"conservativeoutfitters\", \"countdowntozerotime\", \"counterpsyops\", \"creambmp\", \"dailybuzzlive\", \"dailycurrant\", \"dailynewsbin\", \"dcclothesline\", \"demyx\", \"denverguardian\", \"derfmagazine\", \"disclose\", \"duffelblog\",  \"duhprogressive\", \"empireherald\", \"empirenews\", \"empiresports\", \"mediamass\", \"endingthefed\", \"enduringvision\", \"flyheight\", \"fprnradio\", \"freewoodpost\", \"geoengineeringwatch\", \"globalassociatednews\", \"globalresearch\", \"gomerblog\", \"govtslaves\", \"gulagbound\", \"hangthebankers\", \"humansarefree\", \"huzlers\", \"ifyouonlynews\", \"infowars\", \"intellihub\", \"itaglive\", \"jonesreport\", \"lewrockwell\",  \"liberalamerica\", \"libertymovementradio\", \"libertytalk\", \"libertyvideos\", \"lightlybraisedturnip\", \"nationalreport\", \"naturalnews\", \"ncscooper\", \"newsbiscuit\", \"newslo\", \"newsmutiny\", \"newswire-24\",  \"nodisinfo\", \"now8news\", \"nowtheendbegins\",  \"occupydemocrats\",  \"other98\",  \"pakalertpress\", \"politicalblindspot\", \"politicalears\", \"politicops\", \"politicususa\", \"prisonplanet\", \"react365\", \"realfarmacy\", \"realnewsrightnow\", \"redflagnews\", \"redstate\", \"rilenews\", \"rockcitytimes\", \"satiratribune\", \"stuppid\", \"theblaze\", \"thebostontribune\", \"thedailysheeple\", \"thedcgazette\", \"thefreethoughtproject\", \"thelapine\", \"thenewsnerd\", \"theonion\", \"theracketreport\", \"therundownlive\", \"thespoof\", \"theuspatriot\", \"truthfrequencyradio\", \"twitchy\", \"unconfirmedsources\", \"USAToday.com.co\", \"usuncut\", \"veteranstoday\", \"wakingupwisconsin\", \"weeklyworldnews\", \"wideawakeamerica\", \"winningdemocrats\", \"witscience\", \"wnd\", \"worldnewsdailyreport\", \"worldtruth\", \"yournewswire\"]\n"
   ]
  },
  {
   "cell_type": "code",
   "execution_count": null,
   "metadata": {},
   "outputs": [],
   "source": []
  }
 ],
 "metadata": {
  "kernelspec": {
   "display_name": "Python 3",
   "language": "python",
   "name": "python3"
  },
  "language_info": {
   "codemirror_mode": {
    "name": "ipython",
    "version": 3
   },
   "file_extension": ".py",
   "mimetype": "text/x-python",
   "name": "python",
   "nbconvert_exporter": "python",
   "pygments_lexer": "ipython3",
   "version": "3.5.5"
  }
 },
 "nbformat": 4,
 "nbformat_minor": 2
}
